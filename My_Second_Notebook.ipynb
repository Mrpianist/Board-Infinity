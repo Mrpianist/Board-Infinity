{
  "nbformat": 4,
  "nbformat_minor": 0,
  "metadata": {
    "colab": {
      "name": "My_Second_Notebook.ipynb",
      "provenance": [],
      "authorship_tag": "ABX9TyP6jsaCuvbJ7fazvk8FVm7f",
      "include_colab_link": true
    },
    "kernelspec": {
      "name": "python3",
      "display_name": "Python 3"
    },
    "accelerator": "GPU"
  },
  "cells": [
    {
      "cell_type": "markdown",
      "metadata": {
        "id": "view-in-github",
        "colab_type": "text"
      },
      "source": [
        "<a href=\"https://colab.research.google.com/github/aniruddhamodak/Board-Infinity/blob/master/My_Second_Notebook.ipynb\" target=\"_parent\"><img src=\"https://colab.research.google.com/assets/colab-badge.svg\" alt=\"Open In Colab\"/></a>"
      ]
    },
    {
      "cell_type": "markdown",
      "metadata": {
        "id": "VBKBWc5CF8eq",
        "colab_type": "text"
      },
      "source": [
        "Hello ! Myself Aniruddha Modak. \n",
        "I Completed my bachelors of engineering from EXTC field. And now learing a Data Science."
      ]
    },
    {
      "cell_type": "markdown",
      "metadata": {
        "id": "DkTKmVg0LJpS",
        "colab_type": "text"
      },
      "source": [
        "I choose to be data scientist beacause of keen interest in stastatics and analytics.\n",
        "and also a high paying job and a succesful lifestyle."
      ]
    },
    {
      "cell_type": "code",
      "metadata": {
        "id": "RRILshpGLNo8",
        "colab_type": "code",
        "colab": {}
      },
      "source": [
        "firstname = \"aniruddha\""
      ],
      "execution_count": 0,
      "outputs": []
    },
    {
      "cell_type": "code",
      "metadata": {
        "id": "UGp48VFgL-5X",
        "colab_type": "code",
        "colab": {}
      },
      "source": [
        "lastname = \"modak\""
      ],
      "execution_count": 0,
      "outputs": []
    },
    {
      "cell_type": "code",
      "metadata": {
        "id": "RatMI5WaMEVE",
        "colab_type": "code",
        "colab": {}
      },
      "source": [
        "cityname = \"mumbai\""
      ],
      "execution_count": 0,
      "outputs": []
    },
    {
      "cell_type": "code",
      "metadata": {
        "id": "MzfK9dODMqjE",
        "colab_type": "code",
        "colab": {}
      },
      "source": [
        "info = {\"name\": \"aniruddha\", \"lastname\": \"modak\", \"cityname\" : \"mumbai\"}"
      ],
      "execution_count": 0,
      "outputs": []
    },
    {
      "cell_type": "code",
      "metadata": {
        "id": "XAPk7a03NQ6o",
        "colab_type": "code",
        "colab": {
          "base_uri": "https://localhost:8080/",
          "height": 35
        },
        "outputId": "cfa71119-7f25-47ed-8581-3cb0b60b5fac"
      },
      "source": [
        "info"
      ],
      "execution_count": 6,
      "outputs": [
        {
          "output_type": "execute_result",
          "data": {
            "text/plain": [
              "{'cityname': 'mumbai', 'lastname': 'modak', 'name': 'aniruddha'}"
            ]
          },
          "metadata": {
            "tags": []
          },
          "execution_count": 6
        }
      ]
    },
    {
      "cell_type": "code",
      "metadata": {
        "id": "UpENt20rNS-T",
        "colab_type": "code",
        "colab": {}
      },
      "source": [
        "age = 22"
      ],
      "execution_count": 0,
      "outputs": []
    },
    {
      "cell_type": "code",
      "metadata": {
        "id": "kmWIvr1pNsLH",
        "colab_type": "code",
        "colab": {}
      },
      "source": [
        "height = {175 , \"cms\"}"
      ],
      "execution_count": 0,
      "outputs": []
    },
    {
      "cell_type": "code",
      "metadata": {
        "id": "q12vvf0MN7-9",
        "colab_type": "code",
        "colab": {
          "base_uri": "https://localhost:8080/",
          "height": 35
        },
        "outputId": "861cac62-82b3-4094-e606-a018ef5057a3"
      },
      "source": [
        "height"
      ],
      "execution_count": 11,
      "outputs": [
        {
          "output_type": "execute_result",
          "data": {
            "text/plain": [
              "{175, 'cms'}"
            ]
          },
          "metadata": {
            "tags": []
          },
          "execution_count": 11
        }
      ]
    },
    {
      "cell_type": "code",
      "metadata": {
        "id": "brAEn9MHOIIq",
        "colab_type": "code",
        "colab": {}
      },
      "source": [
        "tenth_per = 84.48"
      ],
      "execution_count": 0,
      "outputs": []
    },
    {
      "cell_type": "code",
      "metadata": {
        "id": "64XEE6vJOU2A",
        "colab_type": "code",
        "colab": {}
      },
      "source": [
        "tweleth_per = 68.90"
      ],
      "execution_count": 0,
      "outputs": []
    },
    {
      "cell_type": "code",
      "metadata": {
        "id": "MK0-r-kyOZYw",
        "colab_type": "code",
        "colab": {}
      },
      "source": [
        "percentage = {\"tenth\": 84.48 , \"tweleth\" : 68.90 }"
      ],
      "execution_count": 0,
      "outputs": []
    },
    {
      "cell_type": "code",
      "metadata": {
        "id": "2l1w8lSrOmlD",
        "colab_type": "code",
        "colab": {
          "base_uri": "https://localhost:8080/",
          "height": 35
        },
        "outputId": "2211eba8-7235-49ca-d819-e8f42c9f9bf5"
      },
      "source": [
        "percentage"
      ],
      "execution_count": 15,
      "outputs": [
        {
          "output_type": "execute_result",
          "data": {
            "text/plain": [
              "{'tenth': 84.48, 'tweleth': 68.9}"
            ]
          },
          "metadata": {
            "tags": []
          },
          "execution_count": 15
        }
      ]
    },
    {
      "cell_type": "code",
      "metadata": {
        "id": "KPDNgd99OoQs",
        "colab_type": "code",
        "colab": {}
      },
      "source": [
        "favourite_numbers = [2, 1, 7, 68.90, 84.48]"
      ],
      "execution_count": 0,
      "outputs": []
    },
    {
      "cell_type": "code",
      "metadata": {
        "id": "fx6cLJqCS-ZS",
        "colab_type": "code",
        "colab": {
          "base_uri": "https://localhost:8080/",
          "height": 35
        },
        "outputId": "668f95fc-436c-4b00-ad45-893eb9906901"
      },
      "source": [
        "favourite_numbers"
      ],
      "execution_count": 36,
      "outputs": [
        {
          "output_type": "execute_result",
          "data": {
            "text/plain": [
              "[2, 1, 7, 68.9, 84.48]"
            ]
          },
          "metadata": {
            "tags": []
          },
          "execution_count": 36
        }
      ]
    },
    {
      "cell_type": "code",
      "metadata": {
        "id": "2ZYp1TtdPJjB",
        "colab_type": "code",
        "colab": {}
      },
      "source": [
        "my_friends = [\"Shreya\", \"Swapnil\", \"snehal\", \"sam\", \"adi\"]"
      ],
      "execution_count": 0,
      "outputs": []
    },
    {
      "cell_type": "code",
      "metadata": {
        "id": "DJ-LtFJuSeQn",
        "colab_type": "code",
        "colab": {
          "base_uri": "https://localhost:8080/",
          "height": 35
        },
        "outputId": "14ce46d4-ba0f-4992-ac0f-78149305550c"
      },
      "source": [
        "my_friends"
      ],
      "execution_count": 33,
      "outputs": [
        {
          "output_type": "execute_result",
          "data": {
            "text/plain": [
              "['Shreya', 'Swapnil', 'snehal', 'sam', 'adi']"
            ]
          },
          "metadata": {
            "tags": []
          },
          "execution_count": 33
        }
      ]
    },
    {
      "cell_type": "code",
      "metadata": {
        "id": "3ONUOgjBSi87",
        "colab_type": "code",
        "colab": {
          "base_uri": "https://localhost:8080/",
          "height": 35
        },
        "outputId": "3b78908e-3cf7-461a-d9b4-2f4452a418ef"
      },
      "source": [
        "my_friends [0]"
      ],
      "execution_count": 34,
      "outputs": [
        {
          "output_type": "execute_result",
          "data": {
            "text/plain": [
              "'Shreya'"
            ]
          },
          "metadata": {
            "tags": []
          },
          "execution_count": 34
        }
      ]
    },
    {
      "cell_type": "code",
      "metadata": {
        "id": "wX0QLpbbSmsS",
        "colab_type": "code",
        "colab": {
          "base_uri": "https://localhost:8080/",
          "height": 35
        },
        "outputId": "ebcd8c85-64fb-47ff-e95d-343c0d408fc0"
      },
      "source": [
        "favourite_numbers [-1]"
      ],
      "execution_count": 37,
      "outputs": [
        {
          "output_type": "execute_result",
          "data": {
            "text/plain": [
              "84.48"
            ]
          },
          "metadata": {
            "tags": []
          },
          "execution_count": 37
        }
      ]
    },
    {
      "cell_type": "code",
      "metadata": {
        "id": "_6xDtwkITIdo",
        "colab_type": "code",
        "colab": {}
      },
      "source": [
        "myself = {\"date of birth\" : \" 8 apr 1997\", \"favourite colour\" : \"Black\", \"age\" : \"22\", \n",
        "          \"gender\" : \"male\", \"name\" : \"aniruddha\", \"favourite song\" : \"everybody hates me\"}"
      ],
      "execution_count": 0,
      "outputs": []
    },
    {
      "cell_type": "code",
      "metadata": {
        "id": "GgXWKjb6UlI9",
        "colab_type": "code",
        "colab": {
          "base_uri": "https://localhost:8080/",
          "height": 35
        },
        "outputId": "f613c4ba-865c-4a5f-c86e-820906846067"
      },
      "source": [
        "myself [\"name\"]"
      ],
      "execution_count": 46,
      "outputs": [
        {
          "output_type": "execute_result",
          "data": {
            "text/plain": [
              "'aniruddha'"
            ]
          },
          "metadata": {
            "tags": []
          },
          "execution_count": 46
        }
      ]
    },
    {
      "cell_type": "code",
      "metadata": {
        "id": "uZBuyrGvUqVY",
        "colab_type": "code",
        "colab": {
          "base_uri": "https://localhost:8080/",
          "height": 35
        },
        "outputId": "e93c9fde-517f-4a0e-9b6b-2dde5334758c"
      },
      "source": [
        "myself [\"gender\"]"
      ],
      "execution_count": 47,
      "outputs": [
        {
          "output_type": "execute_result",
          "data": {
            "text/plain": [
              "'male'"
            ]
          },
          "metadata": {
            "tags": []
          },
          "execution_count": 47
        }
      ]
    },
    {
      "cell_type": "code",
      "metadata": {
        "id": "8FxWOgvdVPTF",
        "colab_type": "code",
        "colab": {
          "base_uri": "https://localhost:8080/",
          "height": 35
        },
        "outputId": "77b95a8a-59e5-476d-b4e2-28951319ac0f"
      },
      "source": [
        "myself.keys()"
      ],
      "execution_count": 53,
      "outputs": [
        {
          "output_type": "execute_result",
          "data": {
            "text/plain": [
              "dict_keys(['date of birth', 'favourite colour', 'age', 'gender', 'name', 'favourite song'])"
            ]
          },
          "metadata": {
            "tags": []
          },
          "execution_count": 53
        }
      ]
    },
    {
      "cell_type": "code",
      "metadata": {
        "id": "WoPYRyWJWMye",
        "colab_type": "code",
        "colab": {}
      },
      "source": [
        "myself [\"vegeterian\"] = \"true\""
      ],
      "execution_count": 0,
      "outputs": []
    },
    {
      "cell_type": "code",
      "metadata": {
        "id": "M5Dp1ACwX9y1",
        "colab_type": "code",
        "colab": {
          "base_uri": "https://localhost:8080/",
          "height": 139
        },
        "outputId": "3c857ce9-b4d3-4501-ea8b-b967ed45cc4b"
      },
      "source": [
        "myself"
      ],
      "execution_count": 57,
      "outputs": [
        {
          "output_type": "execute_result",
          "data": {
            "text/plain": [
              "{'age': '22',\n",
              " 'date of birth': ' 8 apr 1997',\n",
              " 'favourite colour': 'Black',\n",
              " 'favourite song': 'everybody hates me',\n",
              " 'gender': 'male',\n",
              " 'name': 'aniruddha',\n",
              " 'vegeterian': 'true'}"
            ]
          },
          "metadata": {
            "tags": []
          },
          "execution_count": 57
        }
      ]
    },
    {
      "cell_type": "code",
      "metadata": {
        "id": "YIh2cVs9YAZ2",
        "colab_type": "code",
        "colab": {}
      },
      "source": [
        ""
      ],
      "execution_count": 0,
      "outputs": []
    }
  ]
}