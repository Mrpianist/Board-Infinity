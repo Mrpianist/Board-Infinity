{
  "nbformat": 4,
  "nbformat_minor": 0,
  "metadata": {
    "colab": {
      "name": "My second notebook (RVB).ipynb",
      "provenance": [],
      "collapsed_sections": [],
      "authorship_tag": "ABX9TyOgOE0+9XmqNlbWrYGu9TQJ",
      "include_colab_link": true
    },
    "kernelspec": {
      "name": "python3",
      "display_name": "Python 3"
    },
    "accelerator": "GPU"
  },
  "cells": [
    {
      "cell_type": "markdown",
      "metadata": {
        "id": "view-in-github",
        "colab_type": "text"
      },
      "source": [
        "<a href=\"https://colab.research.google.com/github/Mrpianist/Board-Infinity/blob/master/My_second_notebook_(Rohit%20V%20Bittianda).ipynb\" target=\"_parent\"><img src=\"https://colab.research.google.com/assets/colab-badge.svg\" alt=\"Open In Colab\"/></a>"
      ]
    },
    {
      "cell_type": "code",
      "metadata": {
        "id": "O7_Vi1iKRcGL",
        "colab_type": "code",
        "colab": {}
      },
      "source": [
        ""
      ],
      "execution_count": 0,
      "outputs": []
    },
    {
      "cell_type": "markdown",
      "metadata": {
        "id": "ZYXE603QT28-",
        "colab_type": "text"
      },
      "source": [
        "Myself This is Rohit Bittianda here.\n",
        "Currently doing my Masters in Information Technology(M.Sc I.T).\n",
        "My hobby is to Play  and practise Piano.\n",
        "Best part is I love doing 'off-Road Adventures.\n",
        "Curently Aiming to get settled soon so that i can fufill my both dreams together side by side.  \n"
      ]
    },
    {
      "cell_type": "markdown",
      "metadata": {
        "id": "WT40LgUnT3eG",
        "colab_type": "text"
      },
      "source": [
        "I like to be Heading  into Data Science each and and every day  because we get to know how to handle the data according to particular parameters.\n",
        "Being Data Scientist it helps us to think over into complete 360degrees of world.\n"
      ]
    },
    {
      "cell_type": "code",
      "metadata": {
        "id": "x6oI7UfdcUs8",
        "colab_type": "code",
        "colab": {}
      },
      "source": [
        "firstname= \"Rohit Vijay\""
      ],
      "execution_count": 0,
      "outputs": []
    },
    {
      "cell_type": "code",
      "metadata": {
        "id": "u_JElYucc5_I",
        "colab_type": "code",
        "colab": {}
      },
      "source": [
        "lastname= \"Bittianda\""
      ],
      "execution_count": 0,
      "outputs": []
    },
    {
      "cell_type": "code",
      "metadata": {
        "id": "Oo5Y_av9c_ne",
        "colab_type": "code",
        "colab": {}
      },
      "source": [
        "cityname= \"Kalyan\""
      ],
      "execution_count": 0,
      "outputs": []
    },
    {
      "cell_type": "code",
      "metadata": {
        "id": "F91PSId_dLTd",
        "colab_type": "code",
        "colab": {}
      },
      "source": [
        "info = {\"name\": \"Rohit Vijay\", \"lastname\": \"Bittianda\", \"cityname\" : \"Kalyan\"}"
      ],
      "execution_count": 0,
      "outputs": []
    },
    {
      "cell_type": "code",
      "metadata": {
        "id": "TM5DKGDDddNL",
        "colab_type": "code",
        "colab": {
          "base_uri": "https://localhost:8080/",
          "height": 34
        },
        "outputId": "2cb97424-d00b-4307-a463-56b6fbf04ba9"
      },
      "source": [
        "info"
      ],
      "execution_count": 9,
      "outputs": [
        {
          "output_type": "execute_result",
          "data": {
            "text/plain": [
              "{'cityname': 'Kalyan', 'lastname': 'Bittianda', 'name': 'Rohit Vijay'}"
            ]
          },
          "metadata": {
            "tags": []
          },
          "execution_count": 9
        }
      ]
    },
    {
      "cell_type": "code",
      "metadata": {
        "id": "B6NVedQwdg5u",
        "colab_type": "code",
        "colab": {}
      },
      "source": [
        "age = 23"
      ],
      "execution_count": 0,
      "outputs": []
    },
    {
      "cell_type": "code",
      "metadata": {
        "id": "xBvTjrOgduHc",
        "colab_type": "code",
        "colab": {}
      },
      "source": [
        "height= {177, 'cms'}"
      ],
      "execution_count": 0,
      "outputs": []
    },
    {
      "cell_type": "code",
      "metadata": {
        "id": "LRRhLX1Sehco",
        "colab_type": "code",
        "colab": {
          "base_uri": "https://localhost:8080/",
          "height": 34
        },
        "outputId": "e0ac1045-3f81-4adf-df2e-361374dcbd06"
      },
      "source": [
        "height"
      ],
      "execution_count": 12,
      "outputs": [
        {
          "output_type": "execute_result",
          "data": {
            "text/plain": [
              "{177, 'cms'}"
            ]
          },
          "metadata": {
            "tags": []
          },
          "execution_count": 12
        }
      ]
    },
    {
      "cell_type": "code",
      "metadata": {
        "id": "O2N-1EEtei2z",
        "colab_type": "code",
        "colab": {}
      },
      "source": [
        "tenth_per = 70.66"
      ],
      "execution_count": 0,
      "outputs": []
    },
    {
      "cell_type": "code",
      "metadata": {
        "id": "1F3kkrfqe7rs",
        "colab_type": "code",
        "colab": {}
      },
      "source": [
        "tweleth_per = 45.08"
      ],
      "execution_count": 0,
      "outputs": []
    },
    {
      "cell_type": "code",
      "metadata": {
        "id": "UkA6SgA7fELe",
        "colab_type": "code",
        "colab": {}
      },
      "source": [
        "percentage = {\"tenth\": 70.66 , \"tweleth\" : 45.08 }"
      ],
      "execution_count": 0,
      "outputs": []
    },
    {
      "cell_type": "code",
      "metadata": {
        "id": "gOsNEgRmfNvG",
        "colab_type": "code",
        "colab": {
          "base_uri": "https://localhost:8080/",
          "height": 34
        },
        "outputId": "6103f77c-d10a-4d76-f8cf-e56bc3ce5627"
      },
      "source": [
        "percentage"
      ],
      "execution_count": 16,
      "outputs": [
        {
          "output_type": "execute_result",
          "data": {
            "text/plain": [
              "{'tenth': 70.66, 'tweleth': 45.08}"
            ]
          },
          "metadata": {
            "tags": []
          },
          "execution_count": 16
        }
      ]
    },
    {
      "cell_type": "code",
      "metadata": {
        "id": "uhZp_HAffRo2",
        "colab_type": "code",
        "colab": {}
      },
      "source": [
        "favourite_numbers = [9, 4, 2, 70.66, 45.08]"
      ],
      "execution_count": 0,
      "outputs": []
    },
    {
      "cell_type": "code",
      "metadata": {
        "id": "hE_kvvnpfjIF",
        "colab_type": "code",
        "colab": {
          "base_uri": "https://localhost:8080/",
          "height": 34
        },
        "outputId": "3b05776c-04e7-47ba-de10-7f7752b31044"
      },
      "source": [
        "favourite_numbers"
      ],
      "execution_count": 18,
      "outputs": [
        {
          "output_type": "execute_result",
          "data": {
            "text/plain": [
              "[9, 4, 2, 70.66, 45.08]"
            ]
          },
          "metadata": {
            "tags": []
          },
          "execution_count": 18
        }
      ]
    },
    {
      "cell_type": "code",
      "metadata": {
        "id": "VEV6fkbSfodh",
        "colab_type": "code",
        "colab": {}
      },
      "source": [
        "my_friends = [\"Jayesh\", \"Anirudh\", \"Nitin\", \"Bhavin\", \"Aakash\"]"
      ],
      "execution_count": 0,
      "outputs": []
    },
    {
      "cell_type": "code",
      "metadata": {
        "id": "NnuN5-6Rf8NE",
        "colab_type": "code",
        "colab": {
          "base_uri": "https://localhost:8080/",
          "height": 34
        },
        "outputId": "9d0b1c77-2bcc-479f-a780-df90fa6e6878"
      },
      "source": [
        "my_friends"
      ],
      "execution_count": 20,
      "outputs": [
        {
          "output_type": "execute_result",
          "data": {
            "text/plain": [
              "['Jayesh', 'Anirudh', 'Nitin', 'Bhavin', 'Aakash']"
            ]
          },
          "metadata": {
            "tags": []
          },
          "execution_count": 20
        }
      ]
    },
    {
      "cell_type": "code",
      "metadata": {
        "id": "hHPjvRbhgFOX",
        "colab_type": "code",
        "colab": {
          "base_uri": "https://localhost:8080/",
          "height": 34
        },
        "outputId": "8eb28039-9074-438a-838c-e6f3ac861c90"
      },
      "source": [
        "my_friends [0]"
      ],
      "execution_count": 21,
      "outputs": [
        {
          "output_type": "execute_result",
          "data": {
            "text/plain": [
              "'Jayesh'"
            ]
          },
          "metadata": {
            "tags": []
          },
          "execution_count": 21
        }
      ]
    },
    {
      "cell_type": "code",
      "metadata": {
        "id": "l544Panngax2",
        "colab_type": "code",
        "colab": {
          "base_uri": "https://localhost:8080/",
          "height": 34
        },
        "outputId": "bdba51eb-2e36-4c1c-a2f9-841bfed7c9c9"
      },
      "source": [
        "favourite_numbers [-1]"
      ],
      "execution_count": 22,
      "outputs": [
        {
          "output_type": "execute_result",
          "data": {
            "text/plain": [
              "45.08"
            ]
          },
          "metadata": {
            "tags": []
          },
          "execution_count": 22
        }
      ]
    },
    {
      "cell_type": "code",
      "metadata": {
        "id": "HhEhYPPcgw-N",
        "colab_type": "code",
        "colab": {}
      },
      "source": [
        "myself = {\"date of birth\" : \" 4 Jan 1997\", \"favourite colour\" : \"Red\", \"age\" : \"23\", \n",
        "          \"gender\" : \"male\", \"name\" : \"Rohit\", \"favourite song\" : \"Dear Mr Fantasy\"}"
      ],
      "execution_count": 0,
      "outputs": []
    },
    {
      "cell_type": "code",
      "metadata": {
        "id": "bdgN-CYKhqT8",
        "colab_type": "code",
        "colab": {
          "base_uri": "https://localhost:8080/",
          "height": 34
        },
        "outputId": "58d4d537-560c-43c7-c146-7277b584c2b0"
      },
      "source": [
        "myself [\"name\"]"
      ],
      "execution_count": 24,
      "outputs": [
        {
          "output_type": "execute_result",
          "data": {
            "text/plain": [
              "'Rohit'"
            ]
          },
          "metadata": {
            "tags": []
          },
          "execution_count": 24
        }
      ]
    },
    {
      "cell_type": "code",
      "metadata": {
        "id": "XKhhWvQhiBrN",
        "colab_type": "code",
        "colab": {
          "base_uri": "https://localhost:8080/",
          "height": 34
        },
        "outputId": "94ec3c54-2c81-4628-a82b-c0670ef945af"
      },
      "source": [
        "myself [\"gender\"]"
      ],
      "execution_count": 25,
      "outputs": [
        {
          "output_type": "execute_result",
          "data": {
            "text/plain": [
              "'male'"
            ]
          },
          "metadata": {
            "tags": []
          },
          "execution_count": 25
        }
      ]
    },
    {
      "cell_type": "code",
      "metadata": {
        "id": "AqUlDB2miGAO",
        "colab_type": "code",
        "colab": {
          "base_uri": "https://localhost:8080/",
          "height": 34
        },
        "outputId": "f94c8a90-617c-44aa-ad2a-3be6a42bb6b4"
      },
      "source": [
        "myself.keys()"
      ],
      "execution_count": 26,
      "outputs": [
        {
          "output_type": "execute_result",
          "data": {
            "text/plain": [
              "dict_keys(['date of birth', 'favourite colour', 'age', 'gender', 'name', 'favourite song'])"
            ]
          },
          "metadata": {
            "tags": []
          },
          "execution_count": 26
        }
      ]
    },
    {
      "cell_type": "code",
      "metadata": {
        "id": "u_R6hVxGiOpq",
        "colab_type": "code",
        "colab": {}
      },
      "source": [
        "myself [\"vegeterian\"] = \"true\""
      ],
      "execution_count": 0,
      "outputs": []
    },
    {
      "cell_type": "code",
      "metadata": {
        "id": "iHlbGsuaicQk",
        "colab_type": "code",
        "colab": {
          "base_uri": "https://localhost:8080/",
          "height": 136
        },
        "outputId": "a5a2bdb9-da08-4a83-9350-413a3ba0907e"
      },
      "source": [
        "myself\n"
      ],
      "execution_count": 28,
      "outputs": [
        {
          "output_type": "execute_result",
          "data": {
            "text/plain": [
              "{'age': '23',\n",
              " 'date of birth': ' 4 Jan 1997',\n",
              " 'favourite colour': 'Red',\n",
              " 'favourite song': 'Dear Mr Fantasy',\n",
              " 'gender': 'male',\n",
              " 'name': 'Rohit',\n",
              " 'vegeterian': 'true'}"
            ]
          },
          "metadata": {
            "tags": []
          },
          "execution_count": 28
        }
      ]
    },
    {
      "cell_type": "code",
      "metadata": {
        "id": "RNC2kPfCiwcW",
        "colab_type": "code",
        "colab": {}
      },
      "source": [
        ""
      ],
      "execution_count": 0,
      "outputs": []
    }
  ]
}