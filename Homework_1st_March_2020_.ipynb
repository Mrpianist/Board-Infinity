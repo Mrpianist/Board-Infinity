{
  "nbformat": 4,
  "nbformat_minor": 0,
  "metadata": {
    "colab": {
      "name": "Homework 1st March 2020 .ipynb",
      "provenance": [],
      "authorship_tag": "ABX9TyPlXdPWuYuIOIHnxLR8MGkd",
      "include_colab_link": true
    },
    "kernelspec": {
      "name": "python3",
      "display_name": "Python 3"
    }
  },
  "cells": [
    {
      "cell_type": "markdown",
      "metadata": {
        "id": "view-in-github",
        "colab_type": "text"
      },
      "source": [
        "<a href=\"https://colab.research.google.com/github/Mrpianist/Board-Infinity/blob/master/Homework_1st_March_2020_.ipynb\" target=\"_parent\"><img src=\"https://colab.research.google.com/assets/colab-badge.svg\" alt=\"Open In Colab\"/></a>"
      ]
    },
    {
      "cell_type": "markdown",
      "metadata": {
        "id": "k_i-oY_MJJl4",
        "colab_type": "text"
      },
      "source": [
        "Ask the user for his age, if age greater than 18 then print adult, if less then print teenager, remember to set the datatype to an integer like so, int(input())"
      ]
    },
    {
      "cell_type": "code",
      "metadata": {
        "id": "ha1KVvneJM71",
        "colab_type": "code",
        "colab": {
          "base_uri": "https://localhost:8080/",
          "height": 102
        },
        "outputId": "22165251-a682-4493-82e7-d14d9f538cc2"
      },
      "source": [
        "print (\"Please enter your ege\\n\")\n",
        "age = int(input())\n",
        "if age>=18 :\n",
        "  print (\"Yor are an adult \\n\")\n",
        "\n",
        "else :\n",
        "  print (\"You are a teenager !\\n\")"
      ],
      "execution_count": 2,
      "outputs": [
        {
          "output_type": "stream",
          "text": [
            "Please enter your ege\n",
            "\n",
            "22\n",
            "Yor are an adult \n",
            "\n"
          ],
          "name": "stdout"
        }
      ]
    },
    {
      "cell_type": "markdown",
      "metadata": {
        "id": "vG3nkZpBJWuk",
        "colab_type": "text"
      },
      "source": [
        "Make a personal loan approving system, Ask the user for his monthly income. Then ask him if he has an ongoing loan (yes|no), if the user’s income is more than 100000, and his answer to an ongoing loan is no then approve his loan, else reject his loan."
      ]
    },
    {
      "cell_type": "markdown",
      "metadata": {
        "id": "nzbuSsITBItX",
        "colab_type": "text"
      },
      "source": [
        ""
      ]
    },
    {
      "cell_type": "code",
      "metadata": {
        "id": "wD_dlcGuJYO9",
        "colab_type": "code",
        "colab": {
          "base_uri": "https://localhost:8080/",
          "height": 102
        },
        "outputId": "632486f5-b0fb-401d-cac0-666a131a28fa"
      },
      "source": [
        "print (\"What is your monthly income\")\n",
        "income = int(input())\n",
        "if income >= 100000 :\n",
        "  print (\"Do you have any ongoing loan?\")\n",
        "  ongoing_loan = str(input())\n",
        "  if ongoing_loan == \"yes\" :\n",
        "    print (\"Sorry, You are not eligible for loan\")\n",
        "  else :\n",
        "    print (\"Congrats ! You are eligible for loan\")\n",
        "else :\n",
        "  print(\"Sorry, You are not elgible for loan\")  "
      ],
      "execution_count": 3,
      "outputs": [
        {
          "output_type": "stream",
          "text": [
            "What is your monthly income\n",
            "150000\n",
            "Do you have any ongoing loan?\n",
            "yes\n",
            "Sorry, You are not eligible for loan\n"
          ],
          "name": "stdout"
        }
      ]
    },
    {
      "cell_type": "markdown",
      "metadata": {
        "id": "fLahwFejJ0JZ",
        "colab_type": "text"
      },
      "source": [
        "Ask the user if Female (yes|no), if ‘yes’ then print ‘You are a Girl’ else print, ‘You are a boy’"
      ]
    },
    {
      "cell_type": "code",
      "metadata": {
        "id": "31OMUXzFJeOs",
        "colab_type": "code",
        "colab": {
          "base_uri": "https://localhost:8080/",
          "height": 68
        },
        "outputId": "2a55b544-003c-41b5-a193-668a114db693"
      },
      "source": [
        "print (\"Are you a female?\")\n",
        "gender = str (input())\n",
        "if gender == \"yes\" :\n",
        "  print (\"You are a girl\")\n",
        "else :\n",
        "  print (\"You are a boy\")"
      ],
      "execution_count": 4,
      "outputs": [
        {
          "output_type": "stream",
          "text": [
            "Are you a female?\n",
            "no\n",
            "You are a boy\n"
          ],
          "name": "stdout"
        }
      ]
    },
    {
      "cell_type": "markdown",
      "metadata": {
        "id": "ZUPeK-lTKHbH",
        "colab_type": "text"
      },
      "source": [
        "Make a list of random numbers and print them all using a for loop"
      ]
    },
    {
      "cell_type": "code",
      "metadata": {
        "id": "ULXmtKfyKICE",
        "colab_type": "code",
        "colab": {
          "base_uri": "https://localhost:8080/",
          "height": 272
        },
        "outputId": "2ca57d39-3174-45c0-c8ee-78a9c36a18bf"
      },
      "source": [
        "numbers = [0,1,2,3,4,5,6,7,8,9,10,13,35,67,98]\n",
        "for x in numbers :\n",
        "  print (x)"
      ],
      "execution_count": 5,
      "outputs": [
        {
          "output_type": "stream",
          "text": [
            "0\n",
            "1\n",
            "2\n",
            "3\n",
            "4\n",
            "5\n",
            "6\n",
            "7\n",
            "8\n",
            "9\n",
            "10\n",
            "13\n",
            "35\n",
            "67\n",
            "98\n"
          ],
          "name": "stdout"
        }
      ]
    },
    {
      "cell_type": "markdown",
      "metadata": {
        "id": "Ba_jx4QgKZ9X",
        "colab_type": "text"
      },
      "source": [
        "Make a list of random number and print only even numbers"
      ]
    },
    {
      "cell_type": "code",
      "metadata": {
        "id": "d2UwbRnVKbqY",
        "colab_type": "code",
        "colab": {
          "base_uri": "https://localhost:8080/",
          "height": 136
        },
        "outputId": "0b331095-ab8e-42f1-8c57-482f2d1d5d9e"
      },
      "source": [
        "numbers = [0,1,2,3,4,5,6,7,8,9,10,13,35,67,98]\n",
        "for x in numbers :\n",
        "  if x%2 == 0 :\n",
        "    print (x)"
      ],
      "execution_count": 6,
      "outputs": [
        {
          "output_type": "stream",
          "text": [
            "0\n",
            "2\n",
            "4\n",
            "6\n",
            "8\n",
            "10\n",
            "98\n"
          ],
          "name": "stdout"
        }
      ]
    },
    {
      "cell_type": "markdown",
      "metadata": {
        "id": "V38FnTtCKkLF",
        "colab_type": "text"
      },
      "source": [
        "Make a dictionary called (myself) with the following keys (name, age, gender and favourite food) and using a for loop print out only the keys"
      ]
    },
    {
      "cell_type": "code",
      "metadata": {
        "id": "BTfVo3v9Kiz4",
        "colab_type": "code",
        "colab": {
          "base_uri": "https://localhost:8080/",
          "height": 85
        },
        "outputId": "ff036dd5-e997-4ff9-91b7-30166c4a5570"
      },
      "source": [
        " myself = {\"name\" : \"Rohit\" , \"age\" : \"23\", \"gender\" : \"male\", \"favourite_food\" : \"Dal Khichidi\"}\n",
        " for x in myself :\n",
        "   print (x)"
      ],
      "execution_count": 8,
      "outputs": [
        {
          "output_type": "stream",
          "text": [
            "name\n",
            "age\n",
            "gender\n",
            "favourite_food\n"
          ],
          "name": "stdout"
        }
      ]
    },
    {
      "cell_type": "markdown",
      "metadata": {
        "id": "fE_caZykK3ZR",
        "colab_type": "text"
      },
      "source": [
        "From the dictionary ‘myself’, print only the values"
      ]
    },
    {
      "cell_type": "code",
      "metadata": {
        "id": "28CnF3RRK5u0",
        "colab_type": "code",
        "colab": {
          "base_uri": "https://localhost:8080/",
          "height": 85
        },
        "outputId": "e04d4c71-ffdd-4d58-e06f-d88d68054e2c"
      },
      "source": [
        "for x in myself :\n",
        "  print (myself[x])"
      ],
      "execution_count": 9,
      "outputs": [
        {
          "output_type": "stream",
          "text": [
            "Rohit\n",
            "23\n",
            "male\n",
            "Dal Khichidi\n"
          ],
          "name": "stdout"
        }
      ]
    },
    {
      "cell_type": "markdown",
      "metadata": {
        "id": "gewHsiycLANw",
        "colab_type": "text"
      },
      "source": [
        "From the dictionary ‘myself’, print both the keys and their values"
      ]
    },
    {
      "cell_type": "code",
      "metadata": {
        "id": "UW4xL5qFK-xz",
        "colab_type": "code",
        "colab": {
          "base_uri": "https://localhost:8080/",
          "height": 85
        },
        "outputId": "23de691d-409c-4171-c219-8c48ffe5efa2"
      },
      "source": [
        "for x in myself :\n",
        "  print (x, \"-\", myself[x])"
      ],
      "execution_count": 10,
      "outputs": [
        {
          "output_type": "stream",
          "text": [
            "name - Rohit\n",
            "age - 23\n",
            "gender - male\n",
            "favourite_food - Dal Khichidi\n"
          ],
          "name": "stdout"
        }
      ]
    },
    {
      "cell_type": "markdown",
      "metadata": {
        "id": "-QGcvTHbLOrq",
        "colab_type": "text"
      },
      "source": [
        "Create a method that takes the persons name as argument and returns it"
      ]
    },
    {
      "cell_type": "code",
      "metadata": {
        "id": "A0u2eSQ-LLTB",
        "colab_type": "code",
        "colab": {
          "base_uri": "https://localhost:8080/",
          "height": 51
        },
        "outputId": "35daa034-3431-4b6e-cc77-e7bd3b1f94a5"
      },
      "source": [
        "def  name(Name):\n",
        "    print(Name)\n",
        "Name = input('enter your name-')\n",
        "name(Name)"
      ],
      "execution_count": 11,
      "outputs": [
        {
          "output_type": "stream",
          "text": [
            "enter your name-Rohit\n",
            "Rohit\n"
          ],
          "name": "stdout"
        }
      ]
    },
    {
      "cell_type": "markdown",
      "metadata": {
        "id": "vuKz_Yt4LfSe",
        "colab_type": "text"
      },
      "source": [
        "Create a function that takes a dictionary as an input and prints all the keys of the dictionary"
      ]
    },
    {
      "cell_type": "code",
      "metadata": {
        "id": "p2M7WOT1LZsR",
        "colab_type": "code",
        "colab": {}
      },
      "source": [
        "myself = {\"name\" : \"aniruddha\" , \"age\" : \"22\", \"gender\" : \"male\", \"favourite_food\" : \"pulav\"}\n",
        "def print_keys (x):\n",
        "  return x.keys()\n",
        "  "
      ],
      "execution_count": 0,
      "outputs": []
    },
    {
      "cell_type": "code",
      "metadata": {
        "id": "FoWJfmWzLxvo",
        "colab_type": "code",
        "colab": {
          "base_uri": "https://localhost:8080/",
          "height": 34
        },
        "outputId": "2c49b088-e566-41f0-d092-318d27a75044"
      },
      "source": [
        "print_keys(myself)"
      ],
      "execution_count": 15,
      "outputs": [
        {
          "output_type": "execute_result",
          "data": {
            "text/plain": [
              "dict_keys(['name', 'age', 'gender', 'favourite_food'])"
            ]
          },
          "metadata": {
            "tags": []
          },
          "execution_count": 15
        }
      ]
    },
    {
      "cell_type": "markdown",
      "metadata": {
        "id": "LMNzaPI9MMd8",
        "colab_type": "text"
      },
      "source": [
        "Create a function that takes a list of 10 random numbers and prints out only odd numbers"
      ]
    },
    {
      "cell_type": "code",
      "metadata": {
        "id": "tClFkiBvMGYr",
        "colab_type": "code",
        "colab": {}
      },
      "source": [
        "numbers = [0,1,2,3,4,5,6,7,8,9,10,13,35,67,98]\n",
        "def odd_number (a) :\n",
        "  for x in numbers:\n",
        "    if x%2 != 0:\n",
        "      print (x)"
      ],
      "execution_count": 0,
      "outputs": []
    },
    {
      "cell_type": "code",
      "metadata": {
        "id": "jWkHYZdsMgez",
        "colab_type": "code",
        "colab": {
          "base_uri": "https://localhost:8080/",
          "height": 153
        },
        "outputId": "cf5fddf8-3537-402b-caf7-f5746c7da6de"
      },
      "source": [
        "odd_number (numbers)"
      ],
      "execution_count": 19,
      "outputs": [
        {
          "output_type": "stream",
          "text": [
            "1\n",
            "3\n",
            "5\n",
            "7\n",
            "9\n",
            "13\n",
            "35\n",
            "67\n"
          ],
          "name": "stdout"
        }
      ]
    },
    {
      "cell_type": "markdown",
      "metadata": {
        "id": "Qe6FT8dNMt9Z",
        "colab_type": "text"
      },
      "source": [
        "define 4 variables of type, string, float, integer and boolean print the data type for each variables"
      ]
    },
    {
      "cell_type": "code",
      "metadata": {
        "id": "6VdF-GMAMkdf",
        "colab_type": "code",
        "colab": {}
      },
      "source": [
        "name = (\"Rohit\") # string variable\n",
        "height = 177.9 # float vairable\n",
        "age = 23 # integer variable \n",
        "male = True #boolean variable"
      ],
      "execution_count": 0,
      "outputs": []
    },
    {
      "cell_type": "code",
      "metadata": {
        "id": "a4r_xlvfM5W2",
        "colab_type": "code",
        "colab": {
          "base_uri": "https://localhost:8080/",
          "height": 34
        },
        "outputId": "4b587a1c-13e4-42cd-937b-fac68b8f0c37"
      },
      "source": [
        "print (type(name), type(height), type(age), type(male))"
      ],
      "execution_count": 21,
      "outputs": [
        {
          "output_type": "stream",
          "text": [
            "<class 'str'> <class 'float'> <class 'int'> <class 'bool'>\n"
          ],
          "name": "stdout"
        }
      ]
    },
    {
      "cell_type": "markdown",
      "metadata": {
        "id": "lXwtw7AMNCYn",
        "colab_type": "text"
      },
      "source": [
        "1. integer to float"
      ]
    },
    {
      "cell_type": "code",
      "metadata": {
        "id": "7a2B-aM4M9V3",
        "colab_type": "code",
        "colab": {
          "base_uri": "https://localhost:8080/",
          "height": 34
        },
        "outputId": "fa88eb5f-a0f8-46b1-e21f-7ea86d7c8a33"
      },
      "source": [
        "age = 23  #integer\n",
        "float (age) #float"
      ],
      "execution_count": 22,
      "outputs": [
        {
          "output_type": "execute_result",
          "data": {
            "text/plain": [
              "23.0"
            ]
          },
          "metadata": {
            "tags": []
          },
          "execution_count": 22
        }
      ]
    },
    {
      "cell_type": "markdown",
      "metadata": {
        "id": "nvjA50t6NMct",
        "colab_type": "text"
      },
      "source": [
        "2. string to integer"
      ]
    },
    {
      "cell_type": "code",
      "metadata": {
        "id": "W6clkzBXNJWj",
        "colab_type": "code",
        "colab": {
          "base_uri": "https://localhost:8080/",
          "height": 34
        },
        "outputId": "2a8e8ae4-de09-4f74-e8c2-d87f9b07a688"
      },
      "source": [
        "age = \"23\" #string\n",
        "int (age)  #integer"
      ],
      "execution_count": 23,
      "outputs": [
        {
          "output_type": "execute_result",
          "data": {
            "text/plain": [
              "23"
            ]
          },
          "metadata": {
            "tags": []
          },
          "execution_count": 23
        }
      ]
    },
    {
      "cell_type": "markdown",
      "metadata": {
        "id": "gFHQsg4mNS2d",
        "colab_type": "text"
      },
      "source": [
        "3. integer to string"
      ]
    },
    {
      "cell_type": "code",
      "metadata": {
        "id": "3IwlnhwONRna",
        "colab_type": "code",
        "colab": {
          "base_uri": "https://localhost:8080/",
          "height": 34
        },
        "outputId": "e9d3e2bd-7ad5-4525-8e0f-b9229739945d"
      },
      "source": [
        "age = 23 #integer\n",
        "str (age) #string"
      ],
      "execution_count": 24,
      "outputs": [
        {
          "output_type": "execute_result",
          "data": {
            "text/plain": [
              "'23'"
            ]
          },
          "metadata": {
            "tags": []
          },
          "execution_count": 24
        }
      ]
    },
    {
      "cell_type": "markdown",
      "metadata": {
        "id": "szqK5Kx4NeuD",
        "colab_type": "text"
      },
      "source": [
        "Boolean to string "
      ]
    },
    {
      "cell_type": "code",
      "metadata": {
        "id": "7NIfrHlXNcmZ",
        "colab_type": "code",
        "colab": {
          "base_uri": "https://localhost:8080/",
          "height": 34
        },
        "outputId": "4bf9085f-d63b-453e-dba4-cea97a8825fe"
      },
      "source": [
        "male = True #bool\n",
        "str (male) #string"
      ],
      "execution_count": 25,
      "outputs": [
        {
          "output_type": "execute_result",
          "data": {
            "text/plain": [
              "'True'"
            ]
          },
          "metadata": {
            "tags": []
          },
          "execution_count": 25
        }
      ]
    },
    {
      "cell_type": "markdown",
      "metadata": {
        "id": "9mPh6HhzNtib",
        "colab_type": "text"
      },
      "source": [
        "Import the following class from SKlearn API,"
      ]
    },
    {
      "cell_type": "code",
      "metadata": {
        "id": "fGoM79CoNr_t",
        "colab_type": "code",
        "colab": {}
      },
      "source": [
        "from sklearn import datasets"
      ],
      "execution_count": 0,
      "outputs": []
    },
    {
      "cell_type": "markdown",
      "metadata": {
        "id": "-XVBSvfpN4iT",
        "colab_type": "text"
      },
      "source": [
        "1. Random forest\n",
        "2. Gaussian Naive bayes\n",
        "3. Decision tree\n",
        "4. Linear regression\n",
        "5. KMeans\n",
        "6. Train test split\n",
        "7. Classification report\n",
        "8. Accuracy"
      ]
    },
    {
      "cell_type": "code",
      "metadata": {
        "id": "mWuHcbTeN2gJ",
        "colab_type": "code",
        "colab": {}
      },
      "source": [
        "from sklearn.ensemble import RandomForestClassifier"
      ],
      "execution_count": 0,
      "outputs": []
    },
    {
      "cell_type": "code",
      "metadata": {
        "id": "QcXVPdowODOL",
        "colab_type": "code",
        "colab": {}
      },
      "source": [
        "from sklearn.naive_bayes import GaussianNB"
      ],
      "execution_count": 0,
      "outputs": []
    },
    {
      "cell_type": "code",
      "metadata": {
        "id": "kpTL8TZeOF06",
        "colab_type": "code",
        "colab": {}
      },
      "source": [
        "from sklearn.tree import DecisionTreeClassifier"
      ],
      "execution_count": 0,
      "outputs": []
    },
    {
      "cell_type": "code",
      "metadata": {
        "id": "nEtJ1Cl2OIQX",
        "colab_type": "code",
        "colab": {}
      },
      "source": [
        "from sklearn.linear_model import LinearRegression"
      ],
      "execution_count": 0,
      "outputs": []
    },
    {
      "cell_type": "code",
      "metadata": {
        "id": "DDx1Ubn3OKxw",
        "colab_type": "code",
        "colab": {}
      },
      "source": [
        "from sklearn.cluster import KMeans"
      ],
      "execution_count": 0,
      "outputs": []
    },
    {
      "cell_type": "code",
      "metadata": {
        "id": "6Cw4qRreONhZ",
        "colab_type": "code",
        "colab": {}
      },
      "source": [
        "from sklearn.model_selection import train_test_split"
      ],
      "execution_count": 0,
      "outputs": []
    },
    {
      "cell_type": "code",
      "metadata": {
        "id": "nN9f2vVfORbf",
        "colab_type": "code",
        "colab": {}
      },
      "source": [
        "from sklearn.metrics import classification_report"
      ],
      "execution_count": 0,
      "outputs": []
    },
    {
      "cell_type": "code",
      "metadata": {
        "id": "A1TS69E_OUuh",
        "colab_type": "code",
        "colab": {}
      },
      "source": [
        "from sklearn.metrics import accuracy_score"
      ],
      "execution_count": 0,
      "outputs": []
    },
    {
      "cell_type": "code",
      "metadata": {
        "id": "zoU13NnDOXrO",
        "colab_type": "code",
        "colab": {}
      },
      "source": [
        ""
      ],
      "execution_count": 0,
      "outputs": []
    }
  ]
}